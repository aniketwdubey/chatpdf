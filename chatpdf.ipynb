{
 "cells": [
  {
   "cell_type": "code",
   "execution_count": 140,
   "metadata": {},
   "outputs": [],
   "source": [
    "from langchain_community.document_loaders import PyPDFLoader\n",
    "from langchain_community.document_loaders import PyPDFDirectoryLoader\n",
    "from langchain.text_splitter import RecursiveCharacterTextSplitter\n",
    "from langchain_community.vectorstores import FAISS\n",
    "from langchain_community.embeddings import HuggingFaceBgeEmbeddings\n",
    "from langchain.prompts import PromptTemplate\n",
    "from langchain.chains import RetrievalQA"
   ]
  },
  {
   "cell_type": "code",
   "execution_count": 141,
   "metadata": {},
   "outputs": [
    {
     "data": {
      "text/plain": [
       "Document(metadata={'source': 'knowledge_base/The Metamorphosis.pdf', 'page': 0}, page_content='J. Basic. Appl. Sci. Res. , 2(2)1600 -1607 , 2012  \\n© 2012, TextRoad Publication  ISSN 2090 -4304  \\nJournal of Basic and Applied  \\nScientific Research  \\nwww.textroad.com  \\n \\n*Corresponding Author : Hamedreza Kohzadi, Departme nt of English Literature, Arak Branch, Islamic Azad  University, Arak, Iran .  \\n                                           E-mail: hamedreza_kohzadi_usa@yahoo.com . \\n A Study of Franz Kafka’s The Metamorphosis  \\n \\nHamedreza Kohzadi 1, Fatemeh Azizmohammadi 2, Mahboubeh Nouri 3   \\n \\n2,1Department of English Literature, Arak Branch, Islamic Azad University, Arak, Iran  \\n3Department of Arts and Humanities, Scie nce and Research Branch, Islamic Azad University, \\nArak, Iran  \\n \\n \\nABSTRACT  \\nThe story of The Metamorphosis  is easily told. It is the story of a travelling salesman by the name \\nGregor Samsa who wakes up one morning transformed into a hideous and monstrous vermi n; he')"
      ]
     },
     "execution_count": 141,
     "metadata": {},
     "output_type": "execute_result"
    }
   ],
   "source": [
    "\n",
    "## Read the ppdfs from the folder\n",
    "loader=PyPDFDirectoryLoader(\"./knowledge_base\")\n",
    "\n",
    "documents=loader.load()\n",
    "\n",
    "text_splitter=RecursiveCharacterTextSplitter(chunk_size=1000,chunk_overlap=200)\n",
    "\n",
    "final_documents=text_splitter.split_documents(documents)\n",
    "final_documents[0]"
   ]
  },
  {
   "cell_type": "code",
   "execution_count": 142,
   "metadata": {},
   "outputs": [
    {
     "data": {
      "text/plain": [
       "54"
      ]
     },
     "execution_count": 142,
     "metadata": {},
     "output_type": "execute_result"
    }
   ],
   "source": [
    "len(final_documents)"
   ]
  },
  {
   "cell_type": "code",
   "execution_count": 143,
   "metadata": {},
   "outputs": [],
   "source": [
    "## Embedding Using Huggingface\n",
    "huggingface_embeddings=HuggingFaceBgeEmbeddings(\n",
    "    model_name=\"BAAI/bge-small-en-v1.5\",      #sentence-transformers/all-MiniLM-l6-v2\n",
    "    model_kwargs={'device':'cpu'},\n",
    "    encode_kwargs={'normalize_embeddings':True}\n",
    "\n",
    ")"
   ]
  },
  {
   "cell_type": "code",
   "execution_count": 144,
   "metadata": {},
   "outputs": [
    {
     "name": "stdout",
     "output_type": "stream",
     "text": [
      "[ 4.07762788e-02  1.11004245e-02 -2.38742121e-03  7.89812803e-02\n",
      " -4.73974012e-02 -3.03049404e-02  1.68100260e-02  5.42226136e-02\n",
      " -4.48965095e-02 -9.93691571e-03 -1.23756751e-02  1.11104846e-02\n",
      " -9.44996811e-03 -9.64715332e-03  4.48650122e-02  6.06569112e-04\n",
      "  2.58104056e-02  2.57435143e-02 -1.60797387e-02  1.87225931e-03\n",
      "  7.79212192e-02 -2.86992341e-02  2.29053088e-02 -2.06236150e-02\n",
      "  2.47524753e-02  1.15705766e-02  5.12356050e-02  3.22968001e-03\n",
      " -3.72636579e-02 -1.52279511e-01 -3.73289920e-02  5.58387372e-04\n",
      "  6.92994371e-02  1.56859905e-02 -6.24925504e-03  3.87277715e-02\n",
      " -6.83134273e-02  1.55024044e-02  1.62292551e-02 -8.38078279e-03\n",
      " -3.13001163e-02  3.17705385e-02  2.18730774e-02  1.23833474e-02\n",
      "  1.38000110e-02 -1.07769938e-02 -2.88995244e-02  8.53419304e-03\n",
      " -3.21921743e-02 -3.38666551e-02 -1.27355933e-01 -1.04133040e-02\n",
      " -1.19396590e-03  3.12590413e-02  3.25550884e-02 -1.67254601e-02\n",
      "  6.06036149e-02  3.57260508e-03  9.65489075e-02  5.12825996e-02\n",
      "  3.82161210e-03  1.49693238e-02 -1.52422652e-01  5.15837669e-02\n",
      "  5.98809831e-02 -1.21941650e-02 -4.84207235e-02 -2.90989485e-02\n",
      " -1.51833901e-02 -2.75133438e-02 -5.82020991e-02 -2.56341957e-02\n",
      "  7.21242353e-02  2.43644789e-03 -2.05495697e-03 -1.57851875e-02\n",
      " -6.65178001e-02 -1.30381538e-02  2.75850091e-02  8.29948299e-03\n",
      "  8.97980947e-03  2.68020481e-02 -2.81818416e-02 -3.62596698e-02\n",
      " -3.45704779e-02  1.18293297e-02  9.67409275e-03 -3.26363370e-02\n",
      " -3.69030535e-02  5.59552535e-02  2.38348804e-02  5.33162896e-03\n",
      " -4.12539057e-02 -4.72016111e-02 -7.02233166e-02 -1.17612514e-03\n",
      " -7.93081447e-02  6.05027564e-02  4.01521213e-02  3.72817606e-01\n",
      "  5.09535968e-02  4.28048335e-02  4.77805249e-02  6.23086169e-02\n",
      " -2.54007801e-02 -2.83103026e-02 -4.11650240e-02 -2.39417888e-02\n",
      "  9.44084395e-03  6.80821389e-02  1.25858383e-02 -1.57936011e-02\n",
      "  8.07180554e-02 -2.37644929e-02  1.62027795e-02 -2.14069383e-03\n",
      "  2.15957779e-02  2.34003626e-02 -3.03423274e-02 -1.23554925e-02\n",
      " -9.57057625e-03  5.37100546e-02  6.33398211e-03 -5.40728793e-02\n",
      "  2.10083765e-03  4.73863725e-03  7.27230981e-02  9.28557068e-02\n",
      "  4.63136993e-02 -3.00255381e-02  4.27003242e-02  1.09005691e-02\n",
      " -2.00664233e-02  3.82498764e-02  3.06402333e-02  5.42133637e-02\n",
      " -3.56115587e-02 -6.48808628e-02 -1.80029050e-02 -6.34894939e-03\n",
      "  5.49374660e-03 -6.74786866e-02 -4.90136296e-02 -8.89639184e-03\n",
      " -5.83787188e-02  2.47544311e-02  4.11248207e-02  2.33234512e-03\n",
      "  2.94793700e-03  8.80844593e-02  4.76774713e-03  1.77381318e-02\n",
      " -2.61499658e-02 -3.28107439e-02  9.97168012e-03 -3.14895771e-02\n",
      "  1.70738753e-02  1.16639912e-01 -4.03004959e-02 -4.08397876e-02\n",
      " -4.72417735e-02  1.02929696e-02 -4.04877141e-02  5.12504391e-02\n",
      "  3.64417806e-02 -5.76090254e-02 -1.46135306e-02  3.95486206e-02\n",
      "  1.62784231e-03 -3.01355124e-02  1.05645834e-02 -1.33601837e-02\n",
      " -6.68591708e-02  3.11874896e-02 -7.98732694e-03 -1.53845819e-02\n",
      " -1.92342121e-02 -4.20475192e-02  3.85468416e-02  3.24729048e-02\n",
      "  4.59430888e-02 -5.80327958e-02 -6.20273240e-02  2.56840345e-02\n",
      "  4.11836104e-03 -6.01895861e-02 -3.84322368e-02 -8.33068788e-03\n",
      " -7.98378699e-03  1.32162292e-02  2.19697859e-02  5.09088524e-02\n",
      " -2.56161187e-02 -1.63004957e-02  3.46048363e-03 -2.62211300e-02\n",
      " -1.09428167e-02  1.24861533e-02 -7.88461864e-02 -6.44798577e-02\n",
      " -1.08133622e-01  3.60455438e-02 -8.18936154e-03 -2.52805408e-02\n",
      " -2.18606666e-02  3.09073385e-02 -1.03877410e-02 -1.74576975e-02\n",
      "  3.26900370e-02 -3.11788432e-02 -2.61733234e-02 -3.08081117e-02\n",
      " -5.13522550e-02  6.51418120e-02 -1.18941087e-02  5.84987551e-02\n",
      " -2.11987291e-02  7.14491215e-03  1.71354245e-02  6.73965411e-03\n",
      "  1.31182000e-02 -8.15145895e-02 -2.54047383e-02 -3.54833275e-01\n",
      " -2.65793726e-02  2.25906819e-02 -2.04191636e-02  1.74370911e-02\n",
      " -3.21100354e-02 -1.82895474e-02 -7.92509019e-02  5.59621230e-02\n",
      "  7.83191714e-03  1.70342047e-02 -4.78512608e-02 -4.71502170e-02\n",
      "  7.24603329e-03  6.00960404e-02  8.95922538e-03  3.20069282e-03\n",
      "  3.38420458e-02 -3.56081463e-02 -4.14481573e-02 -3.44805676e-03\n",
      " -7.64539279e-03 -8.53560120e-03 -4.12441455e-02 -8.99461731e-02\n",
      " -1.17345098e-02  1.12363018e-01  5.85891716e-02 -8.68209545e-03\n",
      " -8.56250711e-03  5.82783110e-02  4.19732258e-02 -1.94916893e-02\n",
      " -4.93203402e-02  7.57344067e-03 -2.26177145e-02  5.15159406e-02\n",
      " -9.29369554e-02 -2.22370699e-02 -7.22196512e-03  2.26657297e-02\n",
      "  7.80056883e-03  1.01749906e-02  2.47342512e-02 -1.07576646e-01\n",
      "  2.34743264e-02  2.31320001e-02 -1.42478952e-02  3.03853955e-02\n",
      "  1.01496190e-01 -3.70848849e-02  8.56681168e-02  4.29921336e-02\n",
      " -6.04351424e-03 -4.28795516e-02  4.85741021e-03  1.28792808e-03\n",
      " -6.42978251e-02 -1.32678421e-02  5.54324547e-03  2.34940127e-02\n",
      "  6.45647347e-02  2.91506052e-02  2.35467367e-02  3.76958724e-06\n",
      "  1.61831290e-03 -3.01697534e-02  2.98402067e-02  4.15301062e-02\n",
      "  4.73592430e-02 -5.95910549e-02  7.45139197e-02 -3.51310000e-02\n",
      " -1.41493054e-02  2.09890027e-02  2.37897802e-02  8.19041952e-02\n",
      " -4.35155146e-02  2.82300869e-03  2.00490132e-02  2.42637768e-02\n",
      "  1.45996576e-02  2.71355975e-02  6.39145542e-03 -1.06725078e-02\n",
      " -3.64051014e-02  3.61686163e-02 -7.09961429e-02 -2.22751778e-02\n",
      " -5.65286493e-03 -1.25093563e-02  7.13892188e-03  1.50005026e-02\n",
      "  4.37384397e-02 -1.35791907e-02  5.53509444e-02 -2.31184930e-01\n",
      " -9.35406832e-04  8.94796290e-03  6.08994551e-02  4.42763455e-02\n",
      " -4.12303023e-02 -3.11818123e-02  8.53702053e-03 -2.46857153e-03\n",
      " -1.10275447e-02  3.86655815e-02 -1.76333748e-02  8.04681480e-02\n",
      "  3.81280854e-02  4.82718870e-02  7.47047970e-03  7.46747181e-02\n",
      " -2.18314249e-02 -3.84128988e-02 -5.96206337e-02 -4.28584591e-02\n",
      " -1.43587245e-02  1.60255179e-01 -8.33180919e-03 -4.14111763e-02\n",
      " -4.28945757e-02  1.47197032e-02  5.32919960e-03 -1.04662478e-01\n",
      "  2.41789464e-02  1.92676354e-02  6.91368768e-05  8.37192237e-02\n",
      "  2.85425801e-02  2.04469264e-02 -2.36484408e-02  4.63443669e-03\n",
      "  1.84705146e-02  3.38101275e-02  2.80596651e-02 -1.12152155e-02\n",
      "  5.04440926e-02  2.27149297e-02 -2.31107958e-02  1.04221582e-01\n",
      " -9.38791502e-03 -4.63179164e-02 -6.93405792e-02 -4.97973301e-02\n",
      "  3.25075872e-02  7.67654448e-04  2.38295924e-03 -7.76221557e-03\n",
      " -8.67616106e-03 -1.37368739e-02 -4.16276715e-04 -1.43752294e-02\n",
      "  1.04119990e-03 -2.37253997e-02 -2.40197107e-02 -1.35836452e-02\n",
      "  3.16305198e-02 -6.39405008e-03  8.58503431e-02  9.00473446e-02]\n",
      "(384,)\n"
     ]
    }
   ],
   "source": [
    "import  numpy as np\n",
    "print(np.array(huggingface_embeddings.embed_query(final_documents[0].page_content)))\n",
    "print(np.array(huggingface_embeddings.embed_query(final_documents[0].page_content)).shape)"
   ]
  },
  {
   "cell_type": "code",
   "execution_count": 145,
   "metadata": {},
   "outputs": [],
   "source": [
    "vectorstore=FAISS.from_documents(final_documents[:120],huggingface_embeddings)"
   ]
  },
  {
   "cell_type": "code",
   "execution_count": 146,
   "metadata": {},
   "outputs": [
    {
     "data": {
      "text/plain": [
       "<langchain_community.vectorstores.faiss.FAISS at 0x309d6b6a0>"
      ]
     },
     "execution_count": 146,
     "metadata": {},
     "output_type": "execute_result"
    }
   ],
   "source": [
    "vectorstore"
   ]
  },
  {
   "cell_type": "code",
   "execution_count": 147,
   "metadata": {},
   "outputs": [
    {
     "name": "stdout",
     "output_type": "stream",
     "text": [
      "J. Basic. Appl. Sci. Res. , 2(2)1600 -1607 , 2012  \n",
      "© 2012, TextRoad Publication  ISSN 2090 -4304  \n",
      "Journal of Basic and Applied  \n",
      "Scientific Research  \n",
      "www.textroad.com  \n",
      " \n",
      "*Corresponding Author : Hamedreza Kohzadi, Departme nt of English Literature, Arak Branch, Islamic Azad  University, Arak, Iran .  \n",
      "                                           E-mail: hamedreza_kohzadi_usa@yahoo.com . \n",
      " A Study of Franz Kafka’s The Metamorphosis  \n",
      " \n",
      "Hamedreza Kohzadi 1, Fatemeh Azizmohammadi 2, Mahboubeh Nouri 3   \n",
      " \n",
      "2,1Department of English Literature, Arak Branch, Islamic Azad University, Arak, Iran  \n",
      "3Department of Arts and Humanities, Scie nce and Research Branch, Islamic Azad University, \n",
      "Arak, Iran  \n",
      " \n",
      " \n",
      "ABSTRACT  \n",
      "The story of The Metamorphosis  is easily told. It is the story of a travelling salesman by the name \n",
      "Gregor Samsa who wakes up one morning transformed into a hideous and monstrous vermi n; he\n"
     ]
    }
   ],
   "source": [
    "## Query using Similarity Search\n",
    "query=\"what is the name of the salesman?\"\n",
    "question=\"what is the name of the salesman?\"\n",
    "relevant_docments=vectorstore.similarity_search(query)\n",
    "print(relevant_docments[0].page_content)"
   ]
  },
  {
   "cell_type": "code",
   "execution_count": 148,
   "metadata": {},
   "outputs": [
    {
     "name": "stdout",
     "output_type": "stream",
     "text": [
      "tags=['FAISS', 'HuggingFaceBgeEmbeddings'] vectorstore=<langchain_community.vectorstores.faiss.FAISS object at 0x309d6b6a0> search_kwargs={'k': 3}\n"
     ]
    }
   ],
   "source": [
    "retriever=vectorstore.as_retriever(search_type=\"similarity\",search_kwargs={\"k\":3})\n",
    "print(retriever)"
   ]
  },
  {
   "cell_type": "code",
   "execution_count": 149,
   "metadata": {},
   "outputs": [],
   "source": [
    "import os\n",
    "HUGGINGFACEHUB_API_TOKEN = os.getenv(\"HUGGINGFACEHUB_API_TOKEN\")  # Retrieve from environment variable"
   ]
  },
  {
   "cell_type": "code",
   "execution_count": 150,
   "metadata": {},
   "outputs": [
    {
     "name": "stderr",
     "output_type": "stream",
     "text": [
      "WARNING! max_length is not default parameter.\n",
      "                    max_length was transferred to model_kwargs.\n",
      "                    Please make sure that max_length is what you intended.\n",
      "WARNING! token is not default parameter.\n",
      "                    token was transferred to model_kwargs.\n",
      "                    Please make sure that token is what you intended.\n"
     ]
    },
    {
     "data": {
      "text/plain": [
       "'\\n\\nThe name of the salesman is not mentioned in the text. The text only describes him as an old man with a white beard and wearing a rusty brown derby hat.'"
      ]
     },
     "execution_count": 150,
     "metadata": {},
     "output_type": "execute_result"
    }
   ],
   "source": [
    "from langchain_huggingface import HuggingFaceEndpoint\n",
    "repo_id=\"mistralai/Mistral-7B-Instruct-v0.2\"\n",
    "llm=HuggingFaceEndpoint(repo_id=repo_id,max_length=128,temperature=0.7,token=HUGGINGFACEHUB_API_TOKEN)\n",
    "llm.invoke(query)"
   ]
  },
  {
   "cell_type": "code",
   "execution_count": 151,
   "metadata": {},
   "outputs": [
    {
     "data": {
      "text/plain": [
       "'\\n\\nThe name of the salesman is not mentioned in the text. The text only describes him as an old man with a white beard and wearing a rusty brown derby hat.'"
      ]
     },
     "execution_count": 151,
     "metadata": {},
     "output_type": "execute_result"
    }
   ],
   "source": [
    "llm.invoke(query)"
   ]
  },
  {
   "cell_type": "code",
   "execution_count": 153,
   "metadata": {},
   "outputs": [],
   "source": [
    "prompt_template=\"\"\"\n",
    "Use the following piece of context to answer the question asked.\n",
    "Please try to provide the answer only based on the context.\n",
    "\n",
    "{context}\n",
    "Question:{question}\n",
    "\n",
    "Helpful Answers:\n",
    "\"\"\""
   ]
  },
  {
   "cell_type": "code",
   "execution_count": 154,
   "metadata": {},
   "outputs": [
    {
     "name": "stdout",
     "output_type": "stream",
     "text": [
      "input_variables=['context', 'question'] input_types={} partial_variables={} template='\\nUse the following piece of context to answer the question asked.\\nPlease try to provide the answer only based on the context.\\n\\n{context}\\nQuestion:{question}\\n\\nHelpful Answers:\\n'\n"
     ]
    }
   ],
   "source": [
    "prompt=PromptTemplate(template=prompt_template,input_variables=[\"context\",\"question\"])\n",
    "print(prompt)\n"
   ]
  },
  {
   "cell_type": "code",
   "execution_count": 155,
   "metadata": {},
   "outputs": [],
   "source": [
    "retrievalQA=RetrievalQA.from_chain_type(\n",
    "    llm=llm,\n",
    "    chain_type=\"stuff\",\n",
    "    retriever=retriever,\n",
    "    return_source_documents=True,\n",
    "    chain_type_kwargs={\"prompt\":prompt}\n",
    ")"
   ]
  },
  {
   "cell_type": "code",
   "execution_count": 156,
   "metadata": {},
   "outputs": [
    {
     "name": "stdout",
     "output_type": "stream",
     "text": [
      "Answer:\n",
      "Gregor Samsa\n",
      "\n",
      "Reference(s):\n",
      "J. Basic. Appl. Sci. Res., 2(2), 1600 -1607, 2012.\n"
     ]
    }
   ],
   "source": [
    "result = retrievalQA.invoke({\"query\": query})\n",
    "print(result['result'])"
   ]
  }
 ],
 "metadata": {
  "kernelspec": {
   "display_name": "venv",
   "language": "python",
   "name": "python3"
  },
  "language_info": {
   "codemirror_mode": {
    "name": "ipython",
    "version": 3
   },
   "file_extension": ".py",
   "mimetype": "text/x-python",
   "name": "python",
   "nbconvert_exporter": "python",
   "pygments_lexer": "ipython3",
   "version": "3.9.6"
  }
 },
 "nbformat": 4,
 "nbformat_minor": 2
}
